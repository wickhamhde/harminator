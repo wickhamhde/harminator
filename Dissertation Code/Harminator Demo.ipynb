{
 "cells": [
  {
   "cell_type": "markdown",
   "metadata": {},
   "source": [
    "# Demonstration of The Harminator\n",
    "## Hugo Wickham"
   ]
  },
  {
   "cell_type": "markdown",
   "metadata": {},
   "source": [
    "### Import required modules"
   ]
  },
  {
   "cell_type": "code",
   "execution_count": 1,
   "metadata": {
    "collapsed": false
   },
   "outputs": [
    {
     "name": "stdout",
     "output_type": "stream",
     "text": [
      "Done importing\n"
     ]
    }
   ],
   "source": [
    "import numpy as np\n",
    "import os.path\n",
    "import viterbi_bach as vb\n",
    "import math\n",
    "import evaluateChorales as ec\n",
    "import harmIO\n",
    "import helper as hp\n",
    "import harm_skeleton as hs\n",
    "import chord_skeleton as cs\n",
    "import ornamentation as orn\n",
    "print('Done importing')"
   ]
  },
  {
   "cell_type": "markdown",
   "metadata": {},
   "source": [
    "### Melody to be harmonised"
   ]
  },
  {
   "cell_type": "code",
   "execution_count": 2,
   "metadata": {
    "collapsed": false
   },
   "outputs": [
    {
     "name": "stdout",
     "output_type": "stream",
     "text": [
      "Done\n"
     ]
    }
   ],
   "source": [
    "try:\n",
    "    chorale = hp.transpose(harmIO.extract(263), 'C')\n",
    "except:\n",
    "    print('Error in extracting chorale')\n",
    "    \n",
    "melody = hp.getLine(chorale, 's')\n",
    "beats = hs.getBeat(chorale)\n",
    "tonality = chorale[0]\n",
    "print('Tonality is', tonality)\n",
    "\n",
    "print('Done')"
   ]
  },
  {
   "cell_type": "markdown",
   "metadata": {},
   "source": [
    "### Train the machine using the Major Dataset"
   ]
  },
  {
   "cell_type": "code",
   "execution_count": 3,
   "metadata": {
    "collapsed": false
   },
   "outputs": [
    {
     "name": "stdout",
     "output_type": "stream",
     "text": [
      "200 chorales in dataset\n",
      "Normalising transition\n",
      "Normalising emission\n",
      "Normalising initial\n",
      "Normalising transition\n",
      "Normalising emission\n",
      "Normalising initial\n",
      "0\n",
      "Normalising transition\n",
      "Normalising emission\n",
      "Normalising initial\n",
      "0\n",
      "Normalising transition\n",
      "Normalising emission\n",
      "Normalising initial\n",
      "0\n",
      "Normalising transition\n",
      "Normalising emission\n",
      "Normalising initial\n",
      "Done\n"
     ]
    }
   ],
   "source": [
    "#Gather dataset\n",
    "dataset_M, _ = harmIO.data('All', '+')\n",
    "#Transpose to same key\n",
    "dataset_M = hp.transposeData(dataset_M)\n",
    "#Train harmony\n",
    "trained_harm_M = hs.train_harm_skel(dataset_M, 3, verbose=False)\n",
    "#Train chords\n",
    "trained_chords_M = cs.train_chord_skelV2(dataset_M, 1, verbose=False)\n",
    "#Train ornamentation\n",
    "trained_orn_M = orn.trainOrnamentationV1(dataset_M, False)\n",
    "\n",
    "print('Done')"
   ]
  },
  {
   "cell_type": "markdown",
   "metadata": {
    "collapsed": false
   },
   "source": [
    "### Train the machine using the Minor Dataset"
   ]
  },
  {
   "cell_type": "code",
   "execution_count": 19,
   "metadata": {
    "collapsed": false
   },
   "outputs": [
    {
     "name": "stdout",
     "output_type": "stream",
     "text": [
      "179 chorales in dataset\n",
      "Normalising transition\n",
      "Normalising emission\n",
      "Normalising initial\n",
      "Normalising transition\n",
      "Normalising emission\n",
      "Normalising initial\n",
      "0\n",
      "Normalising transition\n",
      "Normalising emission\n",
      "Normalising initial\n",
      "0\n",
      "Normalising transition\n",
      "Normalising emission\n",
      "Normalising initial\n",
      "0\n",
      "Normalising transition\n",
      "Normalising emission\n",
      "Normalising initial\n",
      "Done\n"
     ]
    }
   ],
   "source": [
    "#Gather dataset\n",
    "dataset_m, _ = harmIO.data('All', '-')\n",
    "#Transpose to same key\n",
    "dataset_m = hp.transposeData(dataset_m)\n",
    "#Train harmony\n",
    "trained_harm_m = hs.train_harm_skel(dataset_m, 3, verbose=False)\n",
    "#Train chords\n",
    "trained_chords_m = cs.train_chord_skelV2(dataset_m, 1, verbose=False)\n",
    "#Train ornamentation\n",
    "trained_orn_m = orn.trainOrnamentationV1(dataset_m, False)\n",
    "\n",
    "print('Done')"
   ]
  },
  {
   "cell_type": "markdown",
   "metadata": {},
   "source": [
    "### Generate a harmony without ornamentation (Major)"
   ]
  },
  {
   "cell_type": "code",
   "execution_count": 11,
   "metadata": {
    "collapsed": false
   },
   "outputs": [
    {
     "name": "stdout",
     "output_type": "stream",
     "text": [
      "Done harmony\n",
      "Done chords\n",
      "C 2 \t G 1 \t E 1 \t C 1 \t T\n",
      "    \t     \t     \t     \t    \n",
      "    \t     \t     \t     \t    \n",
      "    \t     \t     \t     \t    \n",
      "C 2 \t C 2 \t G 1 \t E 0 \t T3\n",
      "    \t     \t     \t     \t    \n",
      "D 2 \t     \t     \t     \t    \n",
      "    \t     \t     \t     \t    \n",
      "E 2 \t C 2 \t G 1 \t G 0 \t T5\n",
      "    \t     \t     \t     \t    \n",
      "    \t     \t     \t     \t    \n",
      "    \t     \t     \t     \t    \n",
      "D 2 \t H 1 \t G 1 \t F 0 \t D7 7\n",
      "    \t     \t     \t     \t    \n",
      "    \t     \t     \t     \t    \n",
      "    \t     \t     \t     \t    \n",
      "C 2 \t C 2 \t G 1 \t E 0 \t T3\n",
      "    \t     \t     \t     \t    \n",
      "    \t     \t     \t     \t    \n",
      "    \t     \t     \t     \t    \n",
      "D 2 \t A 1 \t G 1 \t F 0 \t S\n",
      "    \t     \t     \t     \t    \n",
      "    \t     \t     \t     \t    \n",
      "    \t     \t     \t     \t    \n",
      "D 2 \t H 1 \t F 1 \t G 0 \t D  7\n",
      "    \t     \t     \t     \t    \n",
      "    \t     \t     \t     \t    \n",
      "    \t     \t     \t     \t    \n",
      "E 2 \t G 1 \t E 1 \t C 0 \t T\n",
      "    \t     \t     \t     \t    \n",
      "    \t     \t     \t     \t    \n",
      "    \t     \t     \t     \t    \n",
      "C 2 \t G 1 \t E 1 \t C 0 \t T\n",
      "    \t     \t     \t     \t    \n",
      "D 2 \t     \t     \t     \t    \n",
      "    \t     \t     \t     \t    \n",
      "E 2 \t C 2 \t G 1 \t C 1 \t T\n",
      "    \t     \t     \t     \t    \n",
      "    \t     \t     \t     \t    \n",
      "    \t     \t     \t     \t    \n",
      "F 2 \t C 2 \t G 1 \t A 0 \t S3\n",
      "    \t     \t     \t     \t    \n",
      "    \t     \t     \t     \t    \n",
      "    \t     \t     \t     \t    \n",
      "G 2 \t G 1 \t G 1 \t H 0 \t D3\n",
      "    \t     \t     \t     \t    \n",
      "    \t     \t     \t     \t    \n",
      "    \t     \t     \t     \t    \n",
      "F 2 \t C 2 \t F 1 \t A 0 \t S3\n",
      "    \t     \t     \t     \t    \n",
      "E 2 \t     \t     \t     \t    \n",
      "    \t     \t     \t     \t    \n",
      "D 2 \t C 2 \t G 1 \t G 0 \t T5\n",
      "    \t     \t     \t     \t    \n",
      "C 2 \t     \t     \t     \t    \n",
      "    \t     \t     \t     \t    \n",
      "D 2 \t H 1 \t F 1 \t G 0 \t D  7\n",
      "    \t     \t     \t     \t    \n",
      "    \t     \t     \t     \t    \n",
      "    \t     \t     \t     \t    \n",
      "C 2 \t G 1 \t E 1 \t C 0 \t T\n",
      "    \t     \t     \t     \t    \n",
      "    \t     \t     \t     \t    \n",
      "    \t     \t     \t     \t    \n",
      "E 2 \t G 1 \t E 1 \t C 0 \t T\n",
      "    \t     \t     \t     \t    \n",
      "    \t     \t     \t     \t    \n",
      "    \t     \t     \t     \t    \n",
      "E 2 \t C 2 \t G 1 \t C 1 \t T\n",
      "    \t     \t     \t     \t    \n",
      "    \t     \t     \t     \t    \n",
      "    \t     \t     \t     \t    \n",
      "D 2 \t D 2 \t G 1 \t H 0 \t D3\n",
      "    \t     \t     \t     \t    \n",
      "    \t     \t     \t     \t    \n",
      "    \t     \t     \t     \t    \n",
      "C 2 \t C 2 \t G 1 \t C 1 \t T\n",
      "    \t     \t     \t     \t    \n",
      "    \t     \t     \t     \t    \n",
      "    \t     \t     \t     \t    \n",
      "H 1 \t D 2 \t Ab1 \t H 0 \t VTp3\n",
      "    \t     \t     \t     \t    \n",
      "    \t     \t     \t     \t    \n",
      "    \t     \t     \t     \t    \n",
      "C 2 \t C 2 \t A 1 \t A 0 \t Tp\n",
      "    \t     \t     \t     \t    \n",
      "D 2 \t     \t     \t     \t    \n",
      "    \t     \t     \t     \t    \n",
      "E 2 \t A 1 \t F 1 \t C 1 \t Tp3\n",
      "    \t     \t     \t     \t    \n",
      "    \t     \t     \t     \t    \n",
      "    \t     \t     \t     \t    \n",
      "D 2 \t Ab1 \t D 1 \t H 0 \t VTp3 7\n",
      "    \t     \t     \t     \t    \n",
      "    \t     \t     \t     \t    \n",
      "    \t     \t     \t     \t    \n",
      "D 2 \t H 1 \t H 0 \t Ab0 \t DP3\n",
      "    \t     \t     \t     \t    \n",
      "    \t     \t     \t     \t    \n",
      "    \t     \t     \t     \t    \n",
      "C 2 \t H 1 \t E 1 \t A 0 \t Tp\n",
      "    \t     \t     \t     \t    \n",
      "    \t     \t     \t     \t    \n",
      "    \t     \t     \t     \t    \n",
      "H 1 \t A 1 \t E 1 \t E 0 \t DP\n",
      "    \t     \t     \t     \t    \n",
      "    \t     \t     \t     \t    \n",
      "    \t     \t     \t     \t    \n",
      "C 2 \t E 1 \t C 1 \t A -1 \t Tp\n",
      "    \t     \t     \t     \t    \n",
      "    \t     \t     \t     \t    \n",
      "    \t     \t     \t     \t    \n",
      "G 1 \t E 1 \t H 0 \t E 0 \t Dp\n",
      "    \t     \t     \t     \t    \n",
      "    \t     \t     \t     \t    \n",
      "    \t     \t     \t     \t    \n",
      "C 2 \t E 1 \t C 1 \t A -1 \t Tp\n",
      "    \t     \t     \t     \t    \n",
      "    \t     \t     \t     \t    \n",
      "    \t     \t     \t     \t    \n",
      "D 2 \t G 1 \t D 1 \t H -1 \t D3\n",
      "    \t     \t     \t     \t    \n",
      "    \t     \t     \t     \t    \n",
      "    \t     \t     \t     \t    \n",
      "E 2 \t G 1 \t E 1 \t C 0 \t T\n",
      "    \t     \t     \t     \t    \n",
      "    \t     \t     \t     \t    \n",
      "    \t     \t     \t     \t    \n",
      "C 2 \t G 1 \t E 1 \t C 0 \t T\n",
      "    \t     \t     \t     \t    \n",
      "D 2 \t     \t     \t     \t    \n",
      "    \t     \t     \t     \t    \n",
      "E 2 \t C 2 \t G 1 \t C 1 \t T\n",
      "    \t     \t     \t     \t    \n",
      "    \t     \t     \t     \t    \n",
      "    \t     \t     \t     \t    \n",
      "F 2 \t C 2 \t G 1 \t A 0 \t S3\n",
      "    \t     \t     \t     \t    \n",
      "    \t     \t     \t     \t    \n",
      "    \t     \t     \t     \t    \n",
      "G 2 \t G 1 \t G 1 \t H 0 \t D3\n",
      "    \t     \t     \t     \t    \n",
      "    \t     \t     \t     \t    \n",
      "    \t     \t     \t     \t    \n",
      "F 2 \t C 2 \t F 1 \t A 0 \t S3\n",
      "    \t     \t     \t     \t    \n",
      "E 2 \t     \t     \t     \t    \n",
      "    \t     \t     \t     \t    \n",
      "D 2 \t C 2 \t G 1 \t G 0 \t T5\n",
      "    \t     \t     \t     \t    \n",
      "C 2 \t     \t     \t     \t    \n",
      "    \t     \t     \t     \t    \n",
      "D 2 \t H 1 \t F 1 \t G 0 \t D  7\n",
      "    \t     \t     \t     \t    \n",
      "    \t     \t     \t     \t    \n",
      "    \t     \t     \t     \t    \n",
      "C 2 \t G 1 \t E 1 \t C 0 \t T\n",
      "    \t     \t     \t     \t    \n",
      "    \t     \t     \t     \t    \n",
      "    \t     \t     \t     \t    \n",
      "    \t C 2 \t G 1 \t C 0 \t T\n",
      "    \t     \t     \t     \t    \n",
      "    \t     \t     \t     \t    \n",
      "    \t     \t     \t     \t    \n",
      "Done\n"
     ]
    }
   ],
   "source": [
    "#Generate harmony\n",
    "harm_skel_M = hs.generate_harm(melody, trained_harm_M, 3, beats)\n",
    "print('Done harmony')\n",
    "#Generate chords\n",
    "chord_skel_M = cs.generate_chordsV2(melody, harm_skel_M, trained_chords_M, 1)\n",
    "print('Done chords')\n",
    "#Format\n",
    "formatted_M = cs.formatChordSkel(melody, chord_skel_M, harm_skel_M, chorale)\n",
    "#Output\n",
    "harmIO.printChorale(formatted_M)\n",
    "print('Done')"
   ]
  },
  {
   "cell_type": "markdown",
   "metadata": {},
   "source": [
    "### Generate a harmony without ornamentation (Minor)"
   ]
  },
  {
   "cell_type": "code",
   "execution_count": null,
   "metadata": {
    "collapsed": true
   },
   "outputs": [],
   "source": [
    "#Generate harmony\n",
    "harm_skel_m = hs.generate_harm(melody_m, trained_harm_m, 3, beats_m)\n",
    "#Generate chords\n",
    "chord_skel_m = cs.generate_chordsV2(melody_m, harm_skel_m, trained_chords_m, 1)\n",
    "#Format\n",
    "formatted_m = cs.formatChordSkel(melody_m, chord_skel_m, harm_skel_m, chorale_m)\n",
    "#Output\n",
    "harmIO.printChorale(formatted_m )"
   ]
  },
  {
   "cell_type": "markdown",
   "metadata": {},
   "source": [
    "### Add ornamentation (Major)"
   ]
  },
  {
   "cell_type": "code",
   "execution_count": null,
   "metadata": {
    "collapsed": true
   },
   "outputs": [],
   "source": [
    "orn_M = orn.generate_ornamentationV1(formatted_M, trained_orn_M, False)\n",
    "formatted_orn_M = harmIO.formatOrnamentation(chorale_M, orn_M[0], orn_M[1], orn_M[2])\n",
    "harmIO.printChorale(formatted_orn_M)"
   ]
  },
  {
   "cell_type": "markdown",
   "metadata": {},
   "source": [
    "### Add ornamentation (Minor)"
   ]
  },
  {
   "cell_type": "code",
   "execution_count": null,
   "metadata": {
    "collapsed": true
   },
   "outputs": [],
   "source": [
    "orn_m = orn.generate_ornamentationV1(formatted_m, trained_orn_m, False)\n",
    "formatted_orn_m = harmIO.formatOrnamentation(chorale_m, orn_m[0], orn_m[1], orn_m[2])\n",
    "harmIO.printChorale(formatted_orn_m)"
   ]
  },
  {
   "cell_type": "markdown",
   "metadata": {},
   "source": [
    "## Convert to musical notation\n",
    "### Import relevant modules"
   ]
  },
  {
   "cell_type": "code",
   "execution_count": 6,
   "metadata": {
    "collapsed": false
   },
   "outputs": [
    {
     "name": "stdout",
     "output_type": "stream",
     "text": [
      "Done\n"
     ]
    }
   ],
   "source": [
    "from pyknon.genmidi import Midi\n",
    "from pyknon.music import NoteSeq, Note\n",
    "from music21 import *\n",
    "import helper as hp\n",
    "print('Done')"
   ]
  },
  {
   "cell_type": "code",
   "execution_count": 12,
   "metadata": {
    "collapsed": false
   },
   "outputs": [
    {
     "name": "stdout",
     "output_type": "stream",
     "text": [
      "Done\n"
     ]
    }
   ],
   "source": [
    "def makeMidi(soprano, alto, tenor, bass, name, filename=\"chorale.midi\"):\n",
    "   \n",
    "    midi = Midi(1,tempo=100)\n",
    "    midi.seq_notes(NoteSeq(([Note(x[0], 4,x[1]) for x in soprano])), channel=0)\n",
    "    midi.seq_notes(NoteSeq([Note(x[0], 4,x[1]) for x in alto]), channel=1)\n",
    "    midi.seq_notes(NoteSeq([Note(x[0], 4,x[1]) for x in tenor]), channel=2)\n",
    "    midi.seq_notes(NoteSeq([Note(x[0], 4,x[1]) for x in bass]), channel=3)\n",
    "    midi.write(filename)\n",
    "        \n",
    "def makeMidiSingle(line, name, filename=\"melody.midi\"):\n",
    "    midi = Midi(1,tempo=100)\n",
    "    midi.seq_notes(NoteSeq(([Note(x[0], 4,x[1]) for x in line])), channel=0)\n",
    "\n",
    "def convertLine(line):\n",
    "    new = []\n",
    "    count = 1\n",
    "    for n in range(len(line)):\n",
    "        if hp.isDashed(line[n]) and n < len(line)-1:\n",
    "            count += 1\n",
    "        else:\n",
    "            single_note = hp.raw(line[n-1])\n",
    "            noteNo = hp.interval(single_note, 'C 1', positive=False)\n",
    "            pair = [noteNo, count/16]\n",
    "            new.append(pair)\n",
    "            count = 1\n",
    "    return new\n",
    "    \n",
    "def convertChorale(chorale):\n",
    "    soprano = chorale[4]\n",
    "    alto = chorale[5]\n",
    "    tenor = chorale[6]\n",
    "    bass = chorale[7]\n",
    "    \n",
    "    newS = convertLine(soprano)\n",
    "    newA = convertLine(alto)\n",
    "    newT = convertLine(tenor)\n",
    "    newB = convertLine(bass)\n",
    "    \n",
    "    return newS, newA, newT, newB\n",
    "\n",
    "\n",
    "melody_midi = convertLine(melody)\n",
    "soprano, alto, tenor, bass = convertChorale(chorale) \n",
    "soprano_new, alto_new, tenor_new, bass_new = convertChorale(formatted_M)\n",
    "            \n",
    "makeMidi(soprano, alto, tenor, bass, 'Original', 'chorale_original.midi')\n",
    "makeMidi(soprano_new, alto_new, tenor_new, bass_new, 'Generated', 'chorale_generated.midi')\n",
    "makeMidiSingle(melody_midi, 'Melody', 'tune.midi')\n",
    "\n",
    "print('Done')"
   ]
  },
  {
   "cell_type": "code",
   "execution_count": null,
   "metadata": {
    "collapsed": true
   },
   "outputs": [],
   "source": []
  }
 ],
 "metadata": {
  "anaconda-cloud": {},
  "kernelspec": {
   "display_name": "Python [conda env:Anaconda3]",
   "language": "python",
   "name": "conda-env-Anaconda3-py"
  },
  "language_info": {
   "codemirror_mode": {
    "name": "ipython",
    "version": 3
   },
   "file_extension": ".py",
   "mimetype": "text/x-python",
   "name": "python",
   "nbconvert_exporter": "python",
   "pygments_lexer": "ipython3",
   "version": "3.5.2"
  }
 },
 "nbformat": 4,
 "nbformat_minor": 1
}
